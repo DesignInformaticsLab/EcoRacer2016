{
 "cells": [
  {
   "cell_type": "code",
   "execution_count": 391,
   "metadata": {
    "collapsed": true
   },
   "outputs": [],
   "source": [
    "%run ego.py"
   ]
  },
  {
   "cell_type": "code",
   "execution_count": 392,
   "metadata": {
    "collapsed": true
   },
   "outputs": [],
   "source": [
    "from sklearn.preprocessing import StandardScaler\n",
    "\n",
    "data = np.genfromtxt(\"dat_train.txt\")\n",
    "\n",
    "scaler = StandardScaler()\n",
    "scaled = scaler.fit_transform(data)\n",
    "\n",
    "X = scaled[:,1:]\n",
    "y = scaled[:,0].reshape((-1,1))"
   ]
  },
  {
   "cell_type": "code",
   "execution_count": 393,
   "metadata": {
    "collapsed": false
   },
   "outputs": [],
   "source": [
    "sig = np.ones(X.shape[1])\n",
    "\n",
    "krig = Kriging(sig)\n",
    "krig.fit(X, y)"
   ]
  },
  {
   "cell_type": "code",
   "execution_count": 394,
   "metadata": {
    "collapsed": false
   },
   "outputs": [
    {
     "data": {
      "text/plain": [
       "0.36149566701562236"
      ]
     },
     "execution_count": 394,
     "metadata": {},
     "output_type": "execute_result"
    }
   ],
   "source": [
    "np.sum((krig.yhat(X) - y)**2)"
   ]
  },
  {
   "cell_type": "code",
   "execution_count": 395,
   "metadata": {
    "collapsed": false
   },
   "outputs": [
    {
     "data": {
      "text/plain": [
       "<matplotlib.collections.PathCollection at 0x35580ef0>"
      ]
     },
     "execution_count": 395,
     "metadata": {},
     "output_type": "execute_result"
    },
    {
     "data": {
      "image/png": "[encoded data removed]",
      "text/plain": [
       "<matplotlib.figure.Figure at 0x359dff98>"
      ]
     },
     "metadata": {},
     "output_type": "display_data"
    }
   ],
   "source": [
    "import matplotlib.pyplot as plt\n",
    "%matplotlib inline\n",
    "plt.scatter(krig.yhat(X), y)\n"
   ]
  },
  {
   "cell_type": "code",
   "execution_count": 396,
   "metadata": {
    "collapsed": false
   },
   "outputs": [
    {
     "name": "stdout",
     "output_type": "stream",
     "text": [
      "[[ 0.69299723]]\n",
      "(9L,) [-0.0411379]\n",
      "32770.821434\n"
     ]
    }
   ],
   "source": [
    "x_in = np.random.rand(9)\n",
    "y_out = krig.yhat(x_in)\n",
    "f_out = krig.f(x_in)\n",
    "print f_out\n",
    "print x_in.shape, y_out[0]\n",
    "print scaler.inverse_transform(np.concatenate((y_out[0], x_in)))[0]"
   ]
  },
  {
   "cell_type": "code",
   "execution_count": 397,
   "metadata": {
    "collapsed": false
   },
   "outputs": [
    {
     "data": {
      "text/plain": [
       "array([[ 0.10374296]])"
      ]
     },
     "execution_count": 397,
     "metadata": {},
     "output_type": "execute_result"
    }
   ],
   "source": [
    "krig.yhat(np.random.rand(9))"
   ]
  },
  {
   "cell_type": "code",
   "execution_count": 398,
   "metadata": {
    "collapsed": false
   },
   "outputs": [
    {
     "data": {
      "text/plain": [
       "9"
      ]
     },
     "execution_count": 398,
     "metadata": {},
     "output_type": "execute_result"
    }
   ],
   "source": [
    "len(x_in)"
   ]
  },
  {
   "cell_type": "code",
   "execution_count": 399,
   "metadata": {
    "collapsed": false
   },
   "outputs": [
    {
     "name": "stdout",
     "output_type": "stream",
     "text": [
      "(39L, 10L)\n"
     ]
    },
    {
     "data": {
      "text/plain": [
       "[<matplotlib.lines.Line2D at 0x35a084e0>]"
      ]
     },
     "execution_count": 399,
     "metadata": {},
     "output_type": "execute_result"
    },
    {
     "data": {
      "image/png": "[encoded data removed]",
      "text/plain": [
       "<matplotlib.figure.Figure at 0x35a08710>"
      ]
     },
     "metadata": {},
     "output_type": "display_data"
    }
   ],
   "source": [
    "#import the test data\n",
    "test = np.genfromtxt(\"dat_test.txt\") \n",
    "print test.shape\n",
    "test_scaled = scaler.transform(test)\n",
    "Xt = test_scaled[:,1:]\n",
    "#print test[:,1:].mean(axis=0)\n",
    "yt_scale = test_scaled[:,0]\n",
    "yt = test[:,0]\n",
    "\n",
    "yt_out = scaler.inverse_transform(np.column_stack((Xt, krig.yhat(Xt))))[:,0]\n",
    "plt.scatter(yt_out, yt)\n",
    "plt.plot(np.linspace(0,100000), np.linspace(0,100000))"
   ]
  },
  {
   "cell_type": "code",
   "execution_count": 400,
   "metadata": {
    "collapsed": false
   },
   "outputs": [
    {
     "data": {
      "text/plain": [
       "96993.812594581846"
      ]
     },
     "execution_count": 400,
     "metadata": {},
     "output_type": "execute_result"
    }
   ],
   "source": [
    "np.sqrt(np.sum((yt_out - yt)**2))"
   ]
  },
  {
   "cell_type": "code",
   "execution_count": 385,
   "metadata": {
    "collapsed": false,
    "scrolled": true
   },
   "outputs": [],
   "source": [
    "# sig = np.eye(X.shape[1])\n",
    "# sig = np.diag(np.random.rand(X.shape[1]))\n",
    "# krig2 = Kriging(sig)\n",
    "# obj = 0.\n",
    "# krig2.fit(X[:1],y[:1])\n",
    "\n",
    "# for i,x in enumerate(X,2):\n",
    "#     #print i\n",
    "#     f_current = krig2.f(x)\n",
    "#     krig2.fit(X[:i-1],y[:i-1])\n",
    "#     #f_current = krig2.f(x)\n",
    "#     #print f_current[0,0]\n",
    "#     obj += np.nan_to_num(f_current[0,0])\n",
    "# print obj\n",
    "    "
   ]
  },
  {
   "cell_type": "code",
   "execution_count": 402,
   "metadata": {
    "collapsed": false
   },
   "outputs": [
    {
     "data": {
      "text/plain": [
       "194.2196137835094"
      ]
     },
     "execution_count": 402,
     "metadata": {},
     "output_type": "execute_result"
    }
   ],
   "source": [
    "#krig.obj(np.ones(X.shape[1]))\n",
    "\n",
    "krig.obj(np.random.rand(X.shape[1]))"
   ]
  },
  {
   "cell_type": "code",
   "execution_count": 389,
   "metadata": {
    "collapsed": false
   },
   "outputs": [
    {
     "data": {
      "text/plain": [
       "array([[ 3.49775567,  0.        ,  0.        ,  0.        ,  0.        ,\n",
       "         0.        ,  0.        ,  0.        ,  0.        ],\n",
       "       [ 0.        ,  1.93960088,  0.        ,  0.        ,  0.        ,\n",
       "         0.        ,  0.        ,  0.        ,  0.        ],\n",
       "       [ 0.        ,  0.        ,  1.08966216,  0.        ,  0.        ,\n",
       "         0.        ,  0.        ,  0.        ,  0.        ],\n",
       "       [ 0.        ,  0.        ,  0.        ,  9.0516656 ,  0.        ,\n",
       "         0.        ,  0.        ,  0.        ,  0.        ],\n",
       "       [ 0.        ,  0.        ,  0.        ,  0.        ,  1.55975495,\n",
       "         0.        ,  0.        ,  0.        ,  0.        ],\n",
       "       [ 0.        ,  0.        ,  0.        ,  0.        ,  0.        ,\n",
       "         6.9033417 ,  0.        ,  0.        ,  0.        ],\n",
       "       [ 0.        ,  0.        ,  0.        ,  0.        ,  0.        ,\n",
       "         0.        ,  2.33312554,  0.        ,  0.        ],\n",
       "       [ 0.        ,  0.        ,  0.        ,  0.        ,  0.        ,\n",
       "         0.        ,  0.        ,  1.37071672,  0.        ],\n",
       "       [ 0.        ,  0.        ,  0.        ,  0.        ,  0.        ,\n",
       "         0.        ,  0.        ,  0.        ,  1.01296533]])"
      ]
     },
     "execution_count": 389,
     "metadata": {},
     "output_type": "execute_result"
    }
   ],
   "source": [
    "np.diag(1/np.random.rand(X.shape[1]))"
   ]
  },
  {
   "cell_type": "code",
   "execution_count": 403,
   "metadata": {
    "collapsed": true
   },
   "outputs": [],
   "source": [
    "from sklearn.externals import joblib\n",
    "joblib.dump()"
   ]
  },
  {
   "cell_type": "code",
   "execution_count": 430,
   "metadata": {
    "collapsed": false
   },
   "outputs": [],
   "source": [
    "%run preprocess.py"
   ]
  },
  {
   "cell_type": "code",
   "execution_count": 432,
   "metadata": {
    "collapsed": false
   },
   "outputs": [],
   "source": [
    "pre = Preprocess(pca_model='eco_full_pca.pkl', all_dat='all_games.pkl')\n",
    "#pre.get_json(\"alluser_control.json\")"
   ]
  },
  {
   "cell_type": "code",
   "execution_count": 434,
   "metadata": {
    "collapsed": false
   },
   "outputs": [],
   "source": [
    "#pre.train_pca()\n",
    "X, y = pre.ready_player_one(1)"
   ]
  },
  {
   "cell_type": "code",
   "execution_count": 435,
   "metadata": {
    "collapsed": false
   },
   "outputs": [
    {
     "data": {
      "text/plain": [
       "(239L, 30L)"
      ]
     },
     "execution_count": 435,
     "metadata": {},
     "output_type": "execute_result"
    }
   ],
   "source": [
    "X.shape"
   ]
  },
  {
   "cell_type": "code",
   "execution_count": 436,
   "metadata": {
    "collapsed": true
   },
   "outputs": [],
   "source": [
    "rKrig = Kriging(np.ones(30))\n",
    "rKrig.fit(X,y)\n"
   ]
  },
  {
   "cell_type": "code",
   "execution_count": 440,
   "metadata": {
    "collapsed": false
   },
   "outputs": [
    {
     "data": {
      "text/plain": [
       "<matplotlib.collections.PathCollection at 0x369abe10>"
      ]
     },
     "execution_count": 440,
     "metadata": {},
     "output_type": "execute_result"
    },
    {
     "data": {
      "image/png": "[encoded data removed]",
      "text/plain": [
       "<matplotlib.figure.Figure at 0x3414bc18>"
      ]
     },
     "metadata": {},
     "output_type": "display_data"
    }
   ],
   "source": [
    "plt.scatter(rKrig.yhat(X), y)"
   ]
  },
  {
   "cell_type": "code",
   "execution_count": 447,
   "metadata": {
    "collapsed": false
   },
   "outputs": [
    {
     "data": {
      "text/plain": [
       "array([  0.00000000e+00,   1.77635684e-14,   4.97379915e-14,\n",
       "        -2.13162821e-14,   1.77635684e-14,  -4.97379915e-14,\n",
       "        -5.32907052e-14,  -7.10542736e-15,   8.17124146e-14,\n",
       "         5.50670620e-14,  -3.01980663e-14,   6.39488462e-14,\n",
       "        -3.37507799e-14,  -2.48689958e-14,   2.48689958e-14,\n",
       "        -3.90798505e-14,  -7.10542736e-15,   1.20792265e-13,\n",
       "        -3.37507799e-14,   0.00000000e+00,   5.32907052e-14,\n",
       "         2.13162821e-14,  -8.70414851e-14,   2.66453526e-14,\n",
       "         4.97379915e-14,   2.84217094e-14,   4.97379915e-14,\n",
       "         2.13162821e-14,   4.97379915e-14,  -1.65201186e-13,\n",
       "         8.52651283e-14,  -7.10542736e-15,   3.55271368e-14,\n",
       "         1.42108547e-14,  -4.61852778e-14,   9.94759830e-14,\n",
       "        -7.10542736e-15,  -5.68434189e-14,  -7.10542736e-14,\n",
       "         3.55271368e-14,  -3.37507799e-14,  -3.37507799e-14,\n",
       "         1.42108547e-14,  -3.90798505e-14,   1.06581410e-14,\n",
       "         2.66453526e-14,  -1.77635684e-14,  -3.19744231e-14,\n",
       "         0.00000000e+00,  -8.88178420e-15,   7.10542736e-14,\n",
       "         4.26325641e-14,   3.55271368e-15,   4.26325641e-14,\n",
       "         1.20792265e-13,   9.94759830e-14,  -2.84217094e-14,\n",
       "        -2.13162821e-14,   2.13162821e-14,  -2.52242671e-13,\n",
       "         7.10542736e-15,  -4.26325641e-14,   6.57252031e-14,\n",
       "         2.84217094e-14,  -5.86197757e-14,   7.10542736e-15,\n",
       "         1.56319402e-13,   3.01980663e-14,   1.06581410e-14,\n",
       "        -2.84217094e-14,   4.97379915e-14,  -3.55271368e-14,\n",
       "        -7.10542736e-15,   5.15143483e-14,   3.73034936e-14,\n",
       "        -3.55271368e-15,   0.00000000e+00,   0.00000000e+00,\n",
       "         2.66453526e-14,  -2.13162821e-14,  -1.06581410e-14,\n",
       "         3.37507799e-14,  -3.37507799e-14,  -5.86197757e-14,\n",
       "         7.10542736e-14,   5.68434189e-14,  -2.13162821e-14,\n",
       "         2.13162821e-14,  -7.46069873e-14,   2.13162821e-14,\n",
       "        -3.90798505e-14,  -3.73034936e-14,   4.08562073e-14,\n",
       "         1.77635684e-14,  -5.68434189e-14,  -5.68434189e-14,\n",
       "        -7.10542736e-14,   1.42108547e-14,   3.55271368e-14,\n",
       "        -1.59872116e-14,   2.84217094e-14,   2.13162821e-14,\n",
       "         1.42108547e-14,  -2.48689958e-14,  -7.10542736e-15,\n",
       "         2.13162821e-14,   2.13162821e-14,  -2.48689958e-14,\n",
       "         1.42108547e-14,  -2.84217094e-14,  -4.97379915e-14,\n",
       "         0.00000000e+00,   0.00000000e+00,  -1.42108547e-14,\n",
       "         1.24344979e-14,   2.13162821e-14,  -6.03961325e-14,\n",
       "        -4.26325641e-14,  -5.68434189e-14,  -5.68434189e-14,\n",
       "         2.84217094e-14,   2.13162821e-14,   1.33226763e-13,\n",
       "         6.39488462e-14,   6.39488462e-14,  -6.92779167e-14,\n",
       "         5.32907052e-15,  -3.55271368e-14,   5.68434189e-14,\n",
       "        -2.84217094e-14,  -1.42108547e-14,   3.73034936e-14,\n",
       "         2.13162821e-14,   7.10542736e-15,   1.59872116e-14,\n",
       "         4.26325641e-14,  -1.42108547e-14,   7.10542736e-15,\n",
       "         2.13162821e-14,   7.10542736e-15,   1.95399252e-14,\n",
       "        -3.37507799e-14,   1.77635684e-14,   0.00000000e+00,\n",
       "         7.10542736e-15,   3.55271368e-14,  -6.21724894e-14,\n",
       "        -1.42108547e-14,  -2.84217094e-14,   1.42108547e-14,\n",
       "         1.81818182e+01,  -1.81818182e+01,  -3.55271368e-15,\n",
       "         8.88178420e-15,   5.68434189e-14,  -6.21724894e-14,\n",
       "         2.00000000e+01,  -2.00000000e+01,   7.10542736e-15,\n",
       "         3.55271368e-15,   6.75015599e-14,  -5.32907052e-15,\n",
       "        -2.84217094e-14,   3.55271368e-14,   1.42108547e-14,\n",
       "         1.42108547e-14,   1.77635684e-14,  -2.13162821e-14,\n",
       "         7.10542736e-15,  -1.59872116e-14,  -2.13162821e-14,\n",
       "        -1.42108547e-14,   2.84217094e-14,   2.13162821e-14,\n",
       "         1.42108547e-14,   5.68434189e-14,  -4.44089210e-14,\n",
       "        -3.55271368e-14,   0.00000000e+00,  -7.10542736e-15,\n",
       "         2.84217094e-14,   8.88178420e-15,  -3.55271368e-14,\n",
       "        -1.35003120e-13,  -3.37507799e-14,  -3.37507799e-14,\n",
       "        -3.55271368e-15,   5.68434189e-14,   1.06581410e-14,\n",
       "         5.68434189e-14,   0.00000000e+00,   1.24344979e-14,\n",
       "         3.73034936e-14,   3.19744231e-14,   4.26325641e-14,\n",
       "        -4.26325641e-14,   0.00000000e+00,   2.13162821e-14,\n",
       "        -6.21724894e-14,  -1.42108547e-14,  -2.84217094e-14,\n",
       "         7.10542736e-15,  -2.13162821e-14,   1.42108547e-14,\n",
       "         8.17124146e-14,  -2.13162821e-14,   3.19744231e-14,\n",
       "        -2.84217094e-14,  -8.52651283e-14,   5.86197757e-14,\n",
       "         5.68434189e-14,  -1.42108547e-14,  -3.37507799e-14,\n",
       "        -5.32907052e-15,  -1.06581410e-14,   4.26325641e-14,\n",
       "         2.84217094e-14,  -1.59872116e-14,  -2.84217094e-14,\n",
       "        -7.10542736e-15,   3.55271368e-14,  -3.01980663e-14,\n",
       "         2.84217094e-14,   0.00000000e+00,  -4.08562073e-14,\n",
       "         2.48689958e-14,   7.10542736e-15,  -3.90798505e-14,\n",
       "         8.88178420e-15,  -1.42108547e-14,  -7.81597009e-14,\n",
       "        -3.37507799e-14,   1.72727273e+01,  -1.72727273e+01,\n",
       "         6.39488462e-14,   1.06581410e-14,   2.13162821e-14,\n",
       "        -1.27897692e-13,   0.00000000e+00])"
      ]
     },
     "execution_count": 447,
     "metadata": {},
     "output_type": "execute_result"
    }
   ],
   "source": [
    "rKrig.yhat(X) - y"
   ]
  },
  {
   "cell_type": "code",
   "execution_count": 449,
   "metadata": {
    "collapsed": false
   },
   "outputs": [
    {
     "name": "stdout",
     "output_type": "stream",
     "text": [
      "1 loops, best of 3: 2.28 s per loop\n"
     ]
    }
   ],
   "source": [
    "%timeit rKrig.obj(np.ones(30))"
   ]
  },
  {
   "cell_type": "code",
   "execution_count": null,
   "metadata": {
    "collapsed": true
   },
   "outputs": [],
   "source": []
  }
 ],
 "metadata": {
  "kernelspec": {
   "display_name": "Python 2",
   "language": "python",
   "name": "python2"
  },
  "language_info": {
   "codemirror_mode": {
    "name": "ipython",
    "version": 2
   },
   "file_extension": ".py",
   "mimetype": "text/x-python",
   "name": "python",
   "nbconvert_exporter": "python",
   "pygments_lexer": "ipython2",
   "version": "2.7.7"
  }
 },
 "nbformat": 4,
 "nbformat_minor": 0
}
