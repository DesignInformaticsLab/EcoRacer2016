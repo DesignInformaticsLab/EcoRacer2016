{
 "cells": [
  {
   "cell_type": "code",
   "execution_count": 51,
   "metadata": {
    "collapsed": false
   },
   "outputs": [],
   "source": [
    "from ego_solver import EGO\n",
    "import numpy as np\n",
    "# from matplotlib import colors, ticker, cm\n",
    "import matplotlib.pyplot as plt\n",
    "import seaborn as sns\n",
    "import pandas as pd\n",
    "import pickle\n",
    "%matplotlib inline"
   ]
  },
  {
   "cell_type": "code",
   "execution_count": 52,
   "metadata": {
    "collapsed": false
   },
   "outputs": [],
   "source": [
    "file_address = 'solution_obj_name_branin_maxiter_100_repeat_30.pkl'\n",
    "with open(file_address, 'r') as f:\n",
    "    dat = pickle.load(f)"
   ]
  },
  {
   "cell_type": "code",
   "execution_count": 53,
   "metadata": {
    "collapsed": false
   },
   "outputs": [],
   "source": [
    "solution = np.array(dat['solution'])"
   ]
  },
  {
   "cell_type": "code",
   "execution_count": 54,
   "metadata": {
    "collapsed": false
   },
   "outputs": [
    {
     "name": "stdout",
     "output_type": "stream",
     "text": [
      "0\n",
      "1\n",
      "2\n",
      "3\n",
      "4\n",
      "0\n",
      "1\n",
      "2\n",
      "3\n",
      "4\n",
      "0\n",
      "1\n",
      "2\n",
      "3\n",
      "4\n",
      "0\n",
      "1\n",
      "2\n",
      "3\n",
      "4\n"
     ]
    }
   ],
   "source": [
    "num_ini_guess = 5\n",
    "bounds = np.array([[-5, 10], [0, 15]])\n",
    "\n",
    "solution_X = solution[0,1,0] # test sigma = 0.1\n",
    "solution_y = solution[0,1,1]\n",
    "from estimate_sigma import CovarianceEstimate\n",
    "ce = CovarianceEstimate(solution_X, solution_y, bounds, num_ini_guess)\n",
    "sig_scale = np.array([0.01, 0.1, 1., 10.])\n",
    "alpha_set = np.array([0.01, 0.1, 1., 10., 100.])\n",
    "grid_result = np.zeros((sig_scale.shape[0], alpha_set.shape[0]))\n",
    "for i, s in enumerate(sig_scale):\n",
    "    sig_inv = np.ones(2)*s\n",
    "    for j, alpha in enumerate(alpha_set):\n",
    "#         print j\n",
    "        grid_result[i,j] = ce.model.obj(sig_inv, alpha)\n",
    "\n",
    "wait = 1"
   ]
  },
  {
   "cell_type": "code",
   "execution_count": 55,
   "metadata": {
    "collapsed": false
   },
   "outputs": [
    {
     "data": {
      "text/plain": [
       "<matplotlib.text.Text at 0x2d868b38>"
      ]
     },
     "execution_count": 55,
     "metadata": {},
     "output_type": "execute_result"
    },
    {
     "data": {
      "image/png": "[encoded data removed]",
      "text/plain": [
       "<matplotlib.figure.Figure at 0x2d5b9470>"
      ]
     },
     "metadata": {},
     "output_type": "display_data"
    }
   ],
   "source": [
    "f = plt.figure()\n",
    "sns.heatmap(-grid_result,\n",
    "            xticklabels=alpha_set, yticklabels=sig_scale, \n",
    "           robust=True, annot=True)\n",
    "plt.xlabel(r'$\\alpha$')\n",
    "plt.ylabel(r'$\\Sigma^{-1}$')\n",
    "cbar_ax = f.axes[-1]\n",
    "cbar_ax.set_ylabel('-log likelihood')"
   ]
  },
  {
   "cell_type": "code",
   "execution_count": 41,
   "metadata": {
    "collapsed": false
   },
   "outputs": [
    {
     "data": {
      "text/plain": [
       "(30L, 4L, 2L)"
      ]
     },
     "execution_count": 41,
     "metadata": {},
     "output_type": "execute_result"
    }
   ],
   "source": [
    "solution.shape"
   ]
  },
  {
   "cell_type": "code",
   "execution_count": null,
   "metadata": {
    "collapsed": true
   },
   "outputs": [],
   "source": []
  }
 ],
 "metadata": {
  "kernelspec": {
   "display_name": "Python 2",
   "language": "python",
   "name": "python2"
  },
  "language_info": {
   "codemirror_mode": {
    "name": "ipython",
    "version": 2
   },
   "file_extension": ".py",
   "mimetype": "text/x-python",
   "name": "python",
   "nbconvert_exporter": "python",
   "pygments_lexer": "ipython2",
   "version": "2.7.11"
  }
 },
 "nbformat": 4,
 "nbformat_minor": 0
}
