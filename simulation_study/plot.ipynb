{
 "cells": [
  {
   "cell_type": "code",
   "execution_count": 38,
   "metadata": {
    "collapsed": false
   },
   "outputs": [],
   "source": [
    "from ego_solver import EGO\n",
    "import numpy as np\n",
    "# from matplotlib import colors, ticker, cm\n",
    "import matplotlib.pyplot as plt\n",
    "import seaborn as sns\n",
    "import pandas as pd\n",
    "import pickle\n",
    "import time\n",
    "%matplotlib inline"
   ]
  },
  {
   "cell_type": "code",
   "execution_count": 39,
   "metadata": {
    "collapsed": false
   },
   "outputs": [],
   "source": [
    "file_address = 'solution_obj_name_rosenbrock-6dim_maxiter_100_repeat_30.pkl'\n",
    "with open(file_address, 'r') as f:\n",
    "    dat = pickle.load(f)"
   ]
  },
  {
   "cell_type": "code",
   "execution_count": 40,
   "metadata": {
    "collapsed": false
   },
   "outputs": [
    {
     "name": "stdout",
     "output_type": "stream",
     "text": [
      "(30L, 4L, 2L)\n"
     ]
    },
    {
     "data": {
      "text/plain": [
       "(100L,)"
      ]
     },
     "execution_count": 40,
     "metadata": {},
     "output_type": "execute_result"
    }
   ],
   "source": [
    "solution = np.array(dat['solution'])\n",
    "print solution.shape\n",
    "solution[0,0,1].shape"
   ]
  },
  {
   "cell_type": "code",
   "execution_count": 41,
   "metadata": {
    "collapsed": false,
    "scrolled": true
   },
   "outputs": [
    {
     "name": "stdout",
     "output_type": "stream",
     "text": [
      "now calculating trial #1\n"
     ]
    },
    {
     "ename": "ValueError",
     "evalue": "operands could not be broadcast together with shapes (100,2) (6,) ",
     "output_type": "error",
     "traceback": [
      "\u001b[1;31m---------------------------------------------------------------------------\u001b[0m",
      "\u001b[1;31mValueError\u001b[0m                                Traceback (most recent call last)",
      "\u001b[1;32m<ipython-input-41-3cbae9015205>\u001b[0m in \u001b[0;36m<module>\u001b[1;34m()\u001b[0m\n\u001b[0;32m     18\u001b[0m     \u001b[0msolution_y\u001b[0m \u001b[1;33m=\u001b[0m \u001b[0msolution\u001b[0m\u001b[1;33m[\u001b[0m\u001b[0mtrial\u001b[0m\u001b[1;33m,\u001b[0m\u001b[1;36m0\u001b[0m\u001b[1;33m,\u001b[0m\u001b[1;36m1\u001b[0m\u001b[1;33m]\u001b[0m\u001b[1;33m\u001b[0m\u001b[0m\n\u001b[0;32m     19\u001b[0m \u001b[1;33m\u001b[0m\u001b[0m\n\u001b[1;32m---> 20\u001b[1;33m     \u001b[0mce\u001b[0m \u001b[1;33m=\u001b[0m \u001b[0mCovarianceEstimate\u001b[0m\u001b[1;33m(\u001b[0m\u001b[0msolution_X\u001b[0m\u001b[1;33m,\u001b[0m \u001b[0msolution_y\u001b[0m\u001b[1;33m,\u001b[0m \u001b[0mbounds\u001b[0m\u001b[1;33m,\u001b[0m \u001b[0mnum_ini_guess\u001b[0m\u001b[1;33m)\u001b[0m\u001b[1;33m\u001b[0m\u001b[0m\n\u001b[0m\u001b[0;32m     21\u001b[0m     \u001b[0msig_scale\u001b[0m \u001b[1;33m=\u001b[0m \u001b[0mnp\u001b[0m\u001b[1;33m.\u001b[0m\u001b[0marray\u001b[0m\u001b[1;33m(\u001b[0m\u001b[1;33m[\u001b[0m\u001b[1;36m0.01\u001b[0m\u001b[1;33m,\u001b[0m \u001b[1;36m0.1\u001b[0m\u001b[1;33m,\u001b[0m \u001b[1;36m1.\u001b[0m\u001b[1;33m,\u001b[0m \u001b[1;36m10.\u001b[0m\u001b[1;33m]\u001b[0m\u001b[1;33m)\u001b[0m\u001b[1;33m\u001b[0m\u001b[0m\n\u001b[0;32m     22\u001b[0m \u001b[1;31m#     alpha_set = np.array([0.01, 0.1, 1., 10.])\u001b[0m\u001b[1;33m\u001b[0m\u001b[1;33m\u001b[0m\u001b[0m\n",
      "\u001b[1;32mC:\\Users\\Thurston\\Documents\\Code\\Pycharm\\EcoRacer2016\\simulation_study\\estimate_sigma.pyc\u001b[0m in \u001b[0;36m__init__\u001b[1;34m(self, X, y, bounds, num_ini_guess)\u001b[0m\n\u001b[0;32m     31\u001b[0m         \u001b[0mself\u001b[0m\u001b[1;33m.\u001b[0m\u001b[0mn\u001b[0m \u001b[1;33m=\u001b[0m \u001b[0mX\u001b[0m\u001b[1;33m.\u001b[0m\u001b[0mshape\u001b[0m\u001b[1;33m[\u001b[0m\u001b[1;36m1\u001b[0m\u001b[1;33m]\u001b[0m\u001b[1;33m\u001b[0m\u001b[0m\n\u001b[0;32m     32\u001b[0m         \u001b[0mself\u001b[0m\u001b[1;33m.\u001b[0m\u001b[0msigma_inv\u001b[0m \u001b[1;33m=\u001b[0m \u001b[0mnp\u001b[0m\u001b[1;33m.\u001b[0m\u001b[0mones\u001b[0m\u001b[1;33m(\u001b[0m\u001b[0mself\u001b[0m\u001b[1;33m.\u001b[0m\u001b[0mn\u001b[0m\u001b[1;33m)\u001b[0m \u001b[1;31m# default value\u001b[0m\u001b[1;33m\u001b[0m\u001b[0m\n\u001b[1;32m---> 33\u001b[1;33m         \u001b[0mself\u001b[0m\u001b[1;33m.\u001b[0m\u001b[0mmodel\u001b[0m \u001b[1;33m=\u001b[0m \u001b[0mKriging\u001b[0m\u001b[1;33m(\u001b[0m\u001b[0mself\u001b[0m\u001b[1;33m.\u001b[0m\u001b[0msigma_inv\u001b[0m\u001b[1;33m,\u001b[0m \u001b[0mbounds\u001b[0m\u001b[1;33m,\u001b[0m \u001b[0mnum_ini_guess\u001b[0m\u001b[1;33m)\u001b[0m \u001b[1;31m# Fit Kriging on the data.\u001b[0m\u001b[1;33m\u001b[0m\u001b[0m\n\u001b[0m\u001b[0;32m     34\u001b[0m         \u001b[0mself\u001b[0m\u001b[1;33m.\u001b[0m\u001b[0mmodel\u001b[0m\u001b[1;33m.\u001b[0m\u001b[0mfit\u001b[0m\u001b[1;33m(\u001b[0m\u001b[0mX\u001b[0m\u001b[1;33m,\u001b[0m \u001b[0my\u001b[0m\u001b[1;33m)\u001b[0m\u001b[1;33m\u001b[0m\u001b[0m\n\u001b[0;32m     35\u001b[0m         \u001b[0mself\u001b[0m\u001b[1;33m.\u001b[0m\u001b[0minput\u001b[0m \u001b[1;33m=\u001b[0m \u001b[0mX\u001b[0m\u001b[1;33m\u001b[0m\u001b[0m\n",
      "\u001b[1;32mC:\\Users\\Thurston\\Documents\\Code\\Pycharm\\EcoRacer2016\\simulation_study\\reverse_ego_obj.pyc\u001b[0m in \u001b[0;36m__init__\u001b[1;34m(self, sig_inv, bounds, num_ini_guess)\u001b[0m\n\u001b[0;32m     29\u001b[0m         \u001b[1;31m# setup random samples to calculate mean of expected improvement\u001b[0m\u001b[1;33m\u001b[0m\u001b[1;33m\u001b[0m\u001b[0m\n\u001b[0;32m     30\u001b[0m         \u001b[1;31m# self.samples = lhs(2, 100)  # for 2-dim funcs\u001b[0m\u001b[1;33m\u001b[0m\u001b[1;33m\u001b[0m\u001b[0m\n\u001b[1;32m---> 31\u001b[1;33m         \u001b[0mself\u001b[0m\u001b[1;33m.\u001b[0m\u001b[0msamples\u001b[0m \u001b[1;33m=\u001b[0m \u001b[0mlhs\u001b[0m\u001b[1;33m(\u001b[0m\u001b[1;36m6\u001b[0m\u001b[1;33m,\u001b[0m \u001b[1;36m100\u001b[0m\u001b[1;33m)\u001b[0m  \u001b[1;31m# for 6-dim rosenbrock\u001b[0m\u001b[1;33m\u001b[0m\u001b[0m\n\u001b[0m\u001b[0;32m     32\u001b[0m         \u001b[0mself\u001b[0m\u001b[1;33m.\u001b[0m\u001b[0msamples\u001b[0m \u001b[1;33m=\u001b[0m \u001b[0mself\u001b[0m\u001b[1;33m.\u001b[0m\u001b[0msamples\u001b[0m\u001b[1;33m*\u001b[0m\u001b[1;33m(\u001b[0m\u001b[0mself\u001b[0m\u001b[1;33m.\u001b[0m\u001b[0mbounds\u001b[0m\u001b[1;33m[\u001b[0m\u001b[1;33m:\u001b[0m\u001b[1;33m,\u001b[0m \u001b[1;36m1\u001b[0m\u001b[1;33m]\u001b[0m\u001b[1;33m-\u001b[0m\u001b[0mself\u001b[0m\u001b[1;33m.\u001b[0m\u001b[0mbounds\u001b[0m\u001b[1;33m[\u001b[0m\u001b[1;33m:\u001b[0m\u001b[1;33m,\u001b[0m \u001b[1;36m0\u001b[0m\u001b[1;33m]\u001b[0m\u001b[1;33m)\u001b[0m\u001b[1;33m+\u001b[0m\u001b[0mself\u001b[0m\u001b[1;33m.\u001b[0m\u001b[0mbounds\u001b[0m\u001b[1;33m[\u001b[0m\u001b[1;33m:\u001b[0m\u001b[1;33m,\u001b[0m \u001b[1;36m0\u001b[0m\u001b[1;33m]\u001b[0m\u001b[1;33m\u001b[0m\u001b[0m\n\u001b[0;32m     33\u001b[0m \u001b[1;33m\u001b[0m\u001b[0m\n",
      "\u001b[1;31mValueError\u001b[0m: operands could not be broadcast together with shapes (100,2) (6,) "
     ]
    }
   ],
   "source": [
    "\n",
    "### DO NOT RUN UNLESS YOU HAVE A LONG TIME TO WAIT!\n",
    "\n",
    "\n",
    "from estimate_sigma import CovarianceEstimate\n",
    "all_001_trials_rosen6 = np.zeros((30,4,4))\n",
    "\n",
    "num_ini_guess = 5\n",
    "bounds = np.array([[-5, 5], [-5, 5], [-5, 5],\n",
    "                   [-5, 5], [-5, 5], [-5, 5]])  # for rosenbrock-6dim\n",
    "# bounds = np.array([[-3,3],[-3,3]])\n",
    "# bounds = np.array([[-5, 10], [0, 15]])\n",
    "# for sig_no in enumerate([0.01,0.1,1.0,10.]):\n",
    "    \n",
    "for trial in range(2):\n",
    "    print 'now calculating trial #'+str(trial+1)\n",
    "    solution_X = solution[trial,0,0] # test sigma = 0.1\n",
    "    solution_y = solution[trial,0,1]\n",
    "    \n",
    "    ce = CovarianceEstimate(solution_X, solution_y, bounds, num_ini_guess)\n",
    "    sig_scale = np.array([0.01, 0.1, 1., 10.])\n",
    "#     alpha_set = np.array([0.01, 0.1, 1., 10.])\n",
    "    alpha_set = np.array([1e-5, 1e-4, 1e-3, 1e-2])\n",
    "    grid_result = np.zeros((sig_scale.shape[0], alpha_set.shape[0]))\n",
    "    for i, s in enumerate(sig_scale):\n",
    "        sig_inv = np.ones(6)*s\n",
    "        for j, alpha in enumerate(alpha_set):\n",
    "    #         print j\n",
    "            grid_result[i,j] = ce.model.obj(sig_inv, alpha)\n",
    "    all_001_trials_rosen6[trial,:,:] = grid_result[:]\n",
    "    time.sleep(10)\n",
    "\n",
    "\n",
    "data = all_001_trials_rosen6\n",
    "\n",
    "# Write the array to disk\n",
    "with file('all_001_trials_rosen6.txt', 'w') as outfile:\n",
    "    # I'm writing a header here just for the sake of readability\n",
    "    # Any line starting with \"#\" will be ignored by numpy.loadtxt\n",
    "    outfile.write('# 0.01 sig - Array shape (trial/sig/alpha): {0}\\n'.format(data.shape))\n",
    "\n",
    "    # Iterating through a ndimensional array produces slices along\n",
    "    # the last axis. This is equivalent to data[i,:,:] in this case\n",
    "    for data_slice in data:\n",
    "\n",
    "        # The formatting string indicates that I'm writing out\n",
    "        # the values in left-justified columns 7 characters in width\n",
    "        # with 2 decimal places.  \n",
    "        np.savetxt(outfile, data_slice, fmt='%.4e')\n",
    "\n",
    "        # Writing out a break to indicate different slices...\n",
    "        outfile.write('# New trial\\n')"
   ]
  },
  {
   "cell_type": "code",
   "execution_count": 44,
   "metadata": {
    "collapsed": false
   },
   "outputs": [],
   "source": [
    "sig_scale = np.array([0.01, 0.1, 1., 10.])\n",
    "# alpha_set = np.array([0.01, 0.1, 1., 10.])\n",
    "alpha_set = np.array([1e-5, 1e-4, 1e-3, 1e-2])\n",
    "all_001_trials_rosen6 = np.loadtxt('all_001_trials_rosen6.txt').reshape((30,4,4))"
   ]
  },
  {
   "cell_type": "code",
   "execution_count": 45,
   "metadata": {
    "collapsed": false
   },
   "outputs": [
    {
     "data": {
      "image/png": "[encoded data removed]",
      "text/plain": [
       "<matplotlib.figure.Figure at 0x28c5e940>"
      ]
     },
     "metadata": {},
     "output_type": "display_data"
    }
   ],
   "source": [
    "f, ax = plt.subplots(nrows=2, figsize=(8,12))\n",
    "sns.heatmap(-all_001_trials_rosen6.mean(axis=0),\n",
    "            xticklabels=alpha_set, yticklabels=sig_scale, \n",
    "           robust=True, annot=True, ax=ax[0], square=True)\n",
    "ax[0].set_xlabel(r'$\\alpha$')\n",
    "ax[0].set_ylabel(r'Test $\\Sigma^{-1}$')\n",
    "ax[0].set_title('-log likelihood $\\mu$ \\n over 30 trials')\n",
    "\n",
    "sns.heatmap(all_001_trials_rosen6.std(axis=0),\n",
    "            xticklabels=alpha_set, yticklabels=sig_scale, \n",
    "           robust=True, annot=True, ax=ax[1], square=True)\n",
    "ax[1].set_xlabel(r'$\\alpha$')\n",
    "ax[1].set_ylabel(r'Test $\\Sigma^{-1}$')\n",
    "ax[1].set_title('-log likelihood $\\sigma$ \\n over 30 Trials')\n",
    "plt.tight_layout()\n",
    "# cbar_ax = f.axes[-1]\n",
    "# cbar_ax.set_ylabel('-log likelihood')\n",
    "# plt.show()"
   ]
  },
  {
   "cell_type": "code",
   "execution_count": 30,
   "metadata": {
    "collapsed": false
   },
   "outputs": [
    {
     "data": {
      "text/plain": [
       "(30L, 4L, 2L)"
      ]
     },
     "execution_count": 30,
     "metadata": {},
     "output_type": "execute_result"
    }
   ],
   "source": [
    "solution.shape"
   ]
  },
  {
   "cell_type": "code",
   "execution_count": 40,
   "metadata": {
    "collapsed": false
   },
   "outputs": [
    {
     "data": {
      "text/plain": [
       "array([[ 444.46785893,  436.6947264 ,  380.85041602,  382.98939849],\n",
       "       [ 444.08617516,  432.78870113,  335.03539829,   77.57730401],\n",
       "       [ 443.28504248,  424.78253901,  272.7117936 ,  170.1304198 ],\n",
       "       [ 443.12563043,  423.13546892,  253.5473089 ,  321.03830029]])"
      ]
     },
     "execution_count": 40,
     "metadata": {},
     "output_type": "execute_result"
    }
   ],
   "source": [
    "np.nan_to_num(-all_01_trials_branin)[:,:,:-1].mean(axis=0)"
   ]
  },
  {
   "cell_type": "code",
   "execution_count": 58,
   "metadata": {
    "collapsed": false
   },
   "outputs": [
    {
     "ename": "ValueError",
     "evalue": "fmt has wrong number of % formats:  .4e",
     "output_type": "error",
     "traceback": [
      "\u001b[1;31m---------------------------------------------------------------------------\u001b[0m",
      "\u001b[1;31mValueError\u001b[0m                                Traceback (most recent call last)",
      "\u001b[1;32m<ipython-input-58-15592d9a8cab>\u001b[0m in \u001b[0;36m<module>\u001b[1;34m()\u001b[0m\n\u001b[0;32m      1\u001b[0m np.savetxt('all_01_trials_branin.txt', \n\u001b[1;32m----> 2\u001b[1;33m            all_01_trials_branin[:,:,:-1], fmt='.4e')\n\u001b[0m",
      "\u001b[1;32mE:\\ProgramFiles_w\\Engineering\\Anaconda\\lib\\site-packages\\numpy\\lib\\npyio.pyc\u001b[0m in \u001b[0;36msavetxt\u001b[1;34m(fname, X, fmt, delimiter, newline, header, footer, comments)\u001b[0m\n\u001b[0;32m   1135\u001b[0m                 \u001b[1;32mraise\u001b[0m \u001b[0merror\u001b[0m\u001b[1;33m\u001b[0m\u001b[0m\n\u001b[0;32m   1136\u001b[0m             \u001b[1;32melif\u001b[0m \u001b[1;33m(\u001b[0m\u001b[1;33m(\u001b[0m\u001b[1;32mnot\u001b[0m \u001b[0miscomplex_X\u001b[0m\u001b[1;33m)\u001b[0m \u001b[1;32mand\u001b[0m \u001b[0mn_fmt_chars\u001b[0m \u001b[1;33m!=\u001b[0m \u001b[0mncol\u001b[0m\u001b[1;33m)\u001b[0m\u001b[1;33m:\u001b[0m\u001b[1;33m\u001b[0m\u001b[0m\n\u001b[1;32m-> 1137\u001b[1;33m                 \u001b[1;32mraise\u001b[0m \u001b[0merror\u001b[0m\u001b[1;33m\u001b[0m\u001b[0m\n\u001b[0m\u001b[0;32m   1138\u001b[0m             \u001b[1;32melse\u001b[0m\u001b[1;33m:\u001b[0m\u001b[1;33m\u001b[0m\u001b[0m\n\u001b[0;32m   1139\u001b[0m                 \u001b[0mformat\u001b[0m \u001b[1;33m=\u001b[0m \u001b[0mfmt\u001b[0m\u001b[1;33m\u001b[0m\u001b[0m\n",
      "\u001b[1;31mValueError\u001b[0m: fmt has wrong number of % formats:  .4e"
     ]
    }
   ],
   "source": [
    "np.savetxt('all_01_trials_branin.txt', \n",
    "           all_01_trials_branin[:,:,:-1], fmt='%.4e')"
   ]
  },
  {
   "cell_type": "code",
   "execution_count": null,
   "metadata": {
    "collapsed": true
   },
   "outputs": [],
   "source": []
  }
 ],
 "metadata": {
  "kernelspec": {
   "display_name": "Python 2",
   "language": "python",
   "name": "python2"
  },
  "language_info": {
   "codemirror_mode": {
    "name": "ipython",
    "version": 2
   },
   "file_extension": ".py",
   "mimetype": "text/x-python",
   "name": "python",
   "nbconvert_exporter": "python",
   "pygments_lexer": "ipython2",
   "version": "2.7.11"
  }
 },
 "nbformat": 4,
 "nbformat_minor": 0
}
